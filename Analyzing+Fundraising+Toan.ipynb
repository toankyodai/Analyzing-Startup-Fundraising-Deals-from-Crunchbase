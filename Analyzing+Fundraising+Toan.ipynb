{
 "cells": [
  {
   "cell_type": "code",
   "execution_count": 158,
   "metadata": {
    "collapsed": true
   },
   "outputs": [],
   "source": [
    "import sqlite3\n",
    "import pandas as pd\n",
    "import numpy as np"
   ]
  },
  {
   "cell_type": "code",
   "execution_count": 159,
   "metadata": {
    "collapsed": false
   },
   "outputs": [
    {
     "name": "stdout",
     "output_type": "stream",
     "text": [
      "avg size of each block 5.180771307511763\n"
     ]
    }
   ],
   "source": [
    "size=[]\n",
    "chunk_iter= pd.read_csv(\"crunchbase-investments.csv\",encoding='latin',chunksize=5000)\n",
    "for chunk in chunk_iter:\n",
    "    size.append(chunk.memory_usage(deep=True).sum()/(1024**2))\n",
    "print(\"avg size of each block\",sum(size)/(len(size)))"
   ]
  },
  {
   "cell_type": "code",
   "execution_count": 160,
   "metadata": {
    "collapsed": true
   },
   "outputs": [],
   "source": [
    "#Each column's missing value counts"
   ]
  },
  {
   "cell_type": "code",
   "execution_count": 161,
   "metadata": {
    "collapsed": false
   },
   "outputs": [
    {
     "name": "stdout",
     "output_type": "stream",
     "text": [
      "No of rows in data: 52870\n",
      "size of data : 56.99 mb\n",
      "company_country_code          1\n",
      "company_name                  1\n",
      "company_permalink             1\n",
      "company_region                1\n",
      "investor_region               2\n",
      "investor_permalink            2\n",
      "investor_name                 2\n",
      "funded_quarter                3\n",
      "funded_at                     3\n",
      "funded_month                  3\n",
      "funded_year                   3\n",
      "funding_round_type            3\n",
      "company_state_code          492\n",
      "company_city                533\n",
      "company_category_code       643\n",
      "raised_amount_usd          3599\n",
      "investor_country_code     12001\n",
      "investor_city             12480\n",
      "investor_state_code       16809\n",
      "investor_category_code    50427\n",
      "dtype: int64\n"
     ]
    }
   ],
   "source": [
    "missing_values=[]\n",
    "data_len=0\n",
    "columns_memory=pd.Series()\n",
    "counter=0\n",
    "chunk_iter= pd.read_csv(\"crunchbase-investments.csv\",encoding='latin',chunksize=5000)\n",
    "for chunk in chunk_iter:\n",
    "    missing_values.append(chunk.apply(pd.isnull).sum())\n",
    "    data_len+=chunk.shape[0]\n",
    "    if counter==0:\n",
    "        columns_memory=chunk.memory_usage(deep=True)/(1024**2)\n",
    "    else:\n",
    "        columns_memory+=chunk.memory_usage(deep=True)/(1024**2)\n",
    "    counter=1\n",
    "\n",
    "combined_missing_value=pd.concat(missing_values)\n",
    "print(\"No of rows in data:\",data_len)\n",
    "print(\"size of data :\",\"{:.2f} mb\".format(sum(size)))\n",
    "print(combined_missing_value.groupby(combined_missing_value.index).sum().sort_values())"
   ]
  },
  {
   "cell_type": "code",
   "execution_count": 162,
   "metadata": {
    "collapsed": false
   },
   "outputs": [
    {
     "data": {
      "text/plain": [
       "Index                     0.000877\n",
       "company_permalink         3.869808\n",
       "company_name              3.424955\n",
       "company_category_code     3.262619\n",
       "company_country_code      3.025223\n",
       "company_state_code        2.962161\n",
       "company_region            3.253541\n",
       "company_city              3.343512\n",
       "investor_permalink        4.749821\n",
       "investor_name             3.734270\n",
       "investor_category_code    0.593590\n",
       "investor_country_code     2.524654\n",
       "investor_state_code       2.361876\n",
       "investor_region           3.238946\n",
       "investor_city             2.751430\n",
       "funding_round_type        3.252704\n",
       "funded_at                 3.378091\n",
       "funded_month              3.226837\n",
       "funded_quarter            3.226837\n",
       "funded_year               0.403366\n",
       "raised_amount_usd         0.403366\n",
       "dtype: float64"
      ]
     },
     "execution_count": 162,
     "metadata": {},
     "output_type": "execute_result"
    }
   ],
   "source": [
    "columns_memory"
   ]
  },
  {
   "cell_type": "code",
   "execution_count": 163,
   "metadata": {
    "collapsed": true
   },
   "outputs": [],
   "source": [
    "# Drop columns representing URL's or containing way too many missing values (>90% missing)\n",
    "drop_cols = ['investor_permalink', 'company_permalink', 'investor_category_code']\n",
    "keep_cols = chunk.columns.drop(drop_cols)"
   ]
  },
  {
   "cell_type": "code",
   "execution_count": 164,
   "metadata": {
    "collapsed": true
   },
   "outputs": [],
   "source": [
    "#identify type of each column\n",
    "\n",
    "datatype={}\n",
    "chunk_iter= pd.read_csv(\"crunchbase-investments.csv\",encoding='latin',chunksize=5000)\n",
    "for chunk in chunk_iter:\n",
    "    for cols in chunk.columns:\n",
    "        datatype[cols]=chunk[cols].dtype\n",
    "# Drop columns representing URL's or containing way too many missing values (>90% missing)\n",
    "drop_cols = ['investor_permalink', 'company_permalink', 'investor_category_code']\n",
    "keep_cols = chunk.columns.drop(drop_cols)"
   ]
  },
  {
   "cell_type": "code",
   "execution_count": 165,
   "metadata": {
    "collapsed": false
   },
   "outputs": [
    {
     "name": "stdout",
     "output_type": "stream",
     "text": [
      "size of data 9.63 mb\n"
     ]
    }
   ],
   "source": [
    "#identify type of each column\n",
    "size=[]\n",
    "conn = sqlite3.connect('crunchbase.db')\n",
    "cur=conn.cursor()\n",
    "columns_category={'company_category_code':'category',\n",
    " 'company_city':'category',\n",
    " 'company_country_code':'category',\n",
    " 'company_name':'category',\n",
    " 'company_permalink':'category',\n",
    " 'company_region':'category',\n",
    " 'company_state_code':'category',\n",
    "'funding_round_type': 'category',\n",
    " 'investor_category_code': 'category',\n",
    " 'investor_city': 'category',\n",
    " 'investor_country_code':'category',\n",
    " 'investor_name':'category',\n",
    " 'investor_permalink':'category',\n",
    " 'investor_region':'category',\n",
    " 'investor_state_code':'category',\n",
    "                 }\n",
    "datatype={}\n",
    "chunk_iter= pd.read_csv(\"crunchbase-investments.csv\",\n",
    "                        encoding='latin',chunksize=5000,\n",
    "                        dtype=columns_category,\n",
    "                        parse_dates=[\"funded_at\"])\n",
    "for chunk in chunk_iter:\n",
    "    chunk=chunk.dropna()\n",
    "    funded_month=chunk[\"funded_month\"].str.split(\"-\").str[-1]\n",
    "    funded_quarter=chunk[\"funded_quarter\"].str.split(\"-\").str[-1]\n",
    "    chunk[\"funded_month\"]=pd.to_numeric(funded_month,downcast='signed')\n",
    "    chunk[\"funded_year\"]=chunk[\"funded_year\"].astype('int32')\n",
    "    chunk['funded_quarter']=funded_quarter\n",
    "    chunk[\"funded_quarter\"]=chunk[\"funded_quarter\"].astype(\"category\")\n",
    "    size.append(chunk.memory_usage(deep=True).sum()/(1024**2))\n",
    "    chunk.to_sql('investments',conn,if_exists='append',index=False)\n",
    "print(\"size of data {:.2f} mb\".format(sum(size)))"
   ]
  },
  {
   "cell_type": "code",
   "execution_count": 166,
   "metadata": {
    "collapsed": false
   },
   "outputs": [
    {
     "name": "stdout",
     "output_type": "stream",
     "text": [
      "    cid                    name     type  notnull dflt_value  pk\n",
      "0     0       company_permalink     TEXT        0       None   0\n",
      "1     1            company_name     TEXT        0       None   0\n",
      "2     2   company_category_code     TEXT        0       None   0\n",
      "3     3    company_country_code     TEXT        0       None   0\n",
      "4     4      company_state_code     TEXT        0       None   0\n",
      "5     5          company_region     TEXT        0       None   0\n",
      "6     6            company_city     TEXT        0       None   0\n",
      "7     7      investor_permalink     TEXT        0       None   0\n",
      "8     8           investor_name     TEXT        0       None   0\n",
      "9     9  investor_category_code     TEXT        0       None   0\n",
      "10   10   investor_country_code     TEXT        0       None   0\n",
      "11   11     investor_state_code     TEXT        0       None   0\n",
      "12   12         investor_region     TEXT        0       None   0\n",
      "13   13           investor_city     TEXT        0       None   0\n",
      "14   14      funding_round_type     TEXT        0       None   0\n",
      "15   15               funded_at     TEXT        0       None   0\n",
      "16   16            funded_month     TEXT        0       None   0\n",
      "17   17          funded_quarter     TEXT        0       None   0\n",
      "18   18             funded_year  INTEGER        0       None   0\n",
      "19   19       raised_amount_usd     REAL        0       None   0\n"
     ]
    }
   ],
   "source": [
    "results_df = pd.read_sql('PRAGMA table_info(investments);', conn)\n",
    "print(results_df)\n"
   ]
  },
  {
   "cell_type": "code",
   "execution_count": 167,
   "metadata": {
    "collapsed": true
   },
   "outputs": [],
   "source": [
    "#top 10% fund rasiser analysis"
   ]
  },
  {
   "cell_type": "code",
   "execution_count": 168,
   "metadata": {
    "collapsed": true
   },
   "outputs": [],
   "source": [
    "query=\"\"\"\n",
    "      select iv.company_name,\n",
    "      cast(sum(raised_amount_usd) as double)/(select cast(sum(raised_amount_usd) as bigint) from investments) as percentage_funding,\n",
    "      cast(sum(raised_amount_usd) as bigint) as funding_amount\n",
    "      from investments as iv\n",
    "      group by iv.company_name \n",
    "      order by funding_amount desc\n",
    "      limit (select cast(count(distinct company_name)*.1 as int) from investments)\n",
    "      \"\"\""
   ]
  },
  {
   "cell_type": "code",
   "execution_count": 169,
   "metadata": {
    "collapsed": false
   },
   "outputs": [],
   "source": [
    "top_10_raised=pd.read_sql(query,conn)"
   ]
  },
  {
   "cell_type": "code",
   "execution_count": 170,
   "metadata": {
    "collapsed": false
   },
   "outputs": [
    {
     "name": "stdout",
     "output_type": "stream",
     "text": [
      "funding raised by top 10 percent 58.35 billion dollars\n"
     ]
    }
   ],
   "source": [
    "print(\"funding raised by top 10 percent %.2f billion dollars\"%(top_10_raised[\"funding_amount\"].sum()/10000000000))"
   ]
  },
  {
   "cell_type": "code",
   "execution_count": 171,
   "metadata": {
    "collapsed": true
   },
   "outputs": [],
   "source": [
    "#top 1% fund rasiser analysis"
   ]
  },
  {
   "cell_type": "code",
   "execution_count": 172,
   "metadata": {
    "collapsed": true
   },
   "outputs": [],
   "source": [
    "query=\"\"\"\n",
    "      select iv.company_name,\n",
    "      cast(sum(raised_amount_usd) as double)/(select cast(sum(raised_amount_usd) as bigint) from investments) as percentage_funding,\n",
    "      cast(sum(raised_amount_usd) as bigint) as funding_amount\n",
    "      from investments as iv\n",
    "      group by iv.company_name \n",
    "      order by funding_amount desc\n",
    "      limit (select cast(count(distinct company_name)*.01 as int) from investments)\n",
    "      \"\"\""
   ]
  },
  {
   "cell_type": "code",
   "execution_count": 173,
   "metadata": {
    "collapsed": true
   },
   "outputs": [],
   "source": [
    "top_1_raised=pd.read_sql(query,conn)"
   ]
  },
  {
   "cell_type": "code",
   "execution_count": 174,
   "metadata": {
    "collapsed": false
   },
   "outputs": [
    {
     "name": "stdout",
     "output_type": "stream",
     "text": [
      "funding raised by top 1 percent 27.38 billion dollars\n"
     ]
    }
   ],
   "source": [
    "print(\"funding raised by top 1 percent %.2f billion dollars\"%(top_1_raised[\"funding_amount\"].sum()/10000000000))"
   ]
  },
  {
   "cell_type": "code",
   "execution_count": 175,
   "metadata": {
    "collapsed": true
   },
   "outputs": [],
   "source": [
    "#bottom 10% fund rasiser analysis"
   ]
  },
  {
   "cell_type": "code",
   "execution_count": 203,
   "metadata": {
    "collapsed": true
   },
   "outputs": [],
   "source": [
    "query=\"\"\"\n",
    "      select iv.company_name,\n",
    "      round(cast(sum(raised_amount_usd) as double)/(select cast(sum(raised_amount_usd) as double) from investments),6) as percentage_funding,\n",
    "      cast(sum(raised_amount_usd) as bigint) as funding_amount\n",
    "      from investments as iv\n",
    "      group by iv.company_name\n",
    "      having funding_amount is not Null\n",
    "      order by funding_amount asc\n",
    "      limit (select cast(count(distinct company_name)*.1 as int) from investments)\n",
    "      \"\"\""
   ]
  },
  {
   "cell_type": "code",
   "execution_count": 204,
   "metadata": {
    "collapsed": false
   },
   "outputs": [],
   "source": [
    "btm_10_raised=pd.read_sql(query,conn)"
   ]
  },
  {
   "cell_type": "code",
   "execution_count": 212,
   "metadata": {
    "collapsed": false
   },
   "outputs": [
    {
     "name": "stdout",
     "output_type": "stream",
     "text": [
      "funding raised by btm 10 percent 0.0294283333 billion dollars\n"
     ]
    }
   ],
   "source": [
    "print(\"funding raised by btm 10 percent %.10f billion dollars\"%(btm_10_raised[\"funding_amount\"].sum()/10000000000))"
   ]
  },
  {
   "cell_type": "code",
   "execution_count": 207,
   "metadata": {
    "collapsed": true
   },
   "outputs": [],
   "source": [
    "#btm 1% percent funding"
   ]
  },
  {
   "cell_type": "code",
   "execution_count": 208,
   "metadata": {
    "collapsed": true
   },
   "outputs": [],
   "source": [
    "query=\"\"\"\n",
    "      select iv.company_name,\n",
    "      round(cast(sum(raised_amount_usd) as double)/(select cast(sum(raised_amount_usd) as double) from investments),6) as percentage_funding,\n",
    "      cast(sum(raised_amount_usd) as bigint) as funding_amount\n",
    "      from investments as iv\n",
    "      group by iv.company_name\n",
    "      having funding_amount is not Null\n",
    "      order by funding_amount asc\n",
    "      limit (select cast(count(distinct company_name)*.01 as int) from investments)\n",
    "      \"\"\""
   ]
  },
  {
   "cell_type": "code",
   "execution_count": 209,
   "metadata": {
    "collapsed": true
   },
   "outputs": [],
   "source": [
    "btm_1_raised=pd.read_sql(query,conn)"
   ]
  },
  {
   "cell_type": "code",
   "execution_count": 210,
   "metadata": {
    "collapsed": false
   },
   "outputs": [
    {
     "name": "stdout",
     "output_type": "stream",
     "text": [
      "funding raised by btm 1 percent 0.0002034700 billion dollars\n"
     ]
    }
   ],
   "source": [
    "print(\"funding raised by btm 1 percent %.10f billion dollars\"%(btm_1_raised[\"funding_amount\"].sum()/10000000000))"
   ]
  },
  {
   "cell_type": "code",
   "execution_count": 211,
   "metadata": {
    "collapsed": true
   },
   "outputs": [],
   "source": [
    "#category of company attracted most of investors "
   ]
  },
  {
   "cell_type": "code",
   "execution_count": 215,
   "metadata": {
    "collapsed": true
   },
   "outputs": [],
   "source": [
    "query=\"\"\"\n",
    "      select iv.company_category_code,count(*) as frequency\n",
    "      from investments as iv\n",
    "      group by iv.company_category_code\n",
    "      order by frequency desc\n",
    "      limit 1\n",
    "      \"\"\""
   ]
  },
  {
   "cell_type": "code",
   "execution_count": 216,
   "metadata": {
    "collapsed": false
   },
   "outputs": [],
   "source": [
    "investment=pd.read_sql(query,conn)"
   ]
  },
  {
   "cell_type": "code",
   "execution_count": 221,
   "metadata": {
    "collapsed": false
   },
   "outputs": [
    {
     "name": "stdout",
     "output_type": "stream",
     "text": [
      "category: software , frequency_investment: 7855\n"
     ]
    }
   ],
   "source": [
    "print(\"category: %s , frequency_investment: %d\"%(investment[\"company_category_code\"][0],investment[\"frequency\"][0]))"
   ]
  },
  {
   "cell_type": "code",
   "execution_count": 222,
   "metadata": {
    "collapsed": true
   },
   "outputs": [],
   "source": [
    "#category of investor contributed the money "
   ]
  },
  {
   "cell_type": "code",
   "execution_count": 244,
   "metadata": {
    "collapsed": true
   },
   "outputs": [],
   "source": [
    "query=\"\"\"\n",
    "      select iv.investor_name,count(*) as frequency\n",
    "      from investments as iv\n",
    "      group by iv.investor_name\n",
    "      having investor_name is not Null\n",
    "      order by frequency desc\n",
    "      limit 1\n",
    "      \"\"\""
   ]
  },
  {
   "cell_type": "code",
   "execution_count": 245,
   "metadata": {
    "collapsed": false
   },
   "outputs": [],
   "source": [
    "investor_name=pd.read_sql(query,conn)"
   ]
  },
  {
   "cell_type": "code",
   "execution_count": 246,
   "metadata": {
    "collapsed": false
   },
   "outputs": [
    {
     "data": {
      "text/html": [
       "<div>\n",
       "<style scoped>\n",
       "    .dataframe tbody tr th:only-of-type {\n",
       "        vertical-align: middle;\n",
       "    }\n",
       "\n",
       "    .dataframe tbody tr th {\n",
       "        vertical-align: top;\n",
       "    }\n",
       "\n",
       "    .dataframe thead th {\n",
       "        text-align: right;\n",
       "    }\n",
       "</style>\n",
       "<table border=\"1\" class=\"dataframe\">\n",
       "  <thead>\n",
       "    <tr style=\"text-align: right;\">\n",
       "      <th></th>\n",
       "      <th>investor_name</th>\n",
       "      <th>frequency</th>\n",
       "    </tr>\n",
       "  </thead>\n",
       "  <tbody>\n",
       "    <tr>\n",
       "      <th>0</th>\n",
       "      <td>Techstars</td>\n",
       "      <td>681</td>\n",
       "    </tr>\n",
       "  </tbody>\n",
       "</table>\n",
       "</div>"
      ],
      "text/plain": [
       "  investor_name  frequency\n",
       "0     Techstars        681"
      ]
     },
     "execution_count": 246,
     "metadata": {},
     "output_type": "execute_result"
    }
   ],
   "source": [
    "investor_name"
   ]
  },
  {
   "cell_type": "code",
   "execution_count": 247,
   "metadata": {
    "collapsed": false
   },
   "outputs": [
    {
     "name": "stdout",
     "output_type": "stream",
     "text": [
      "investor: Techstars , frequency_investment: 681\n"
     ]
    }
   ],
   "source": [
    "print(\"investor: %s , frequency_investment: %d\"%(investor_name[\"investor_name\"][0],investor_name[\"frequency\"][0]))"
   ]
  },
  {
   "cell_type": "code",
   "execution_count": 249,
   "metadata": {
    "collapsed": true
   },
   "outputs": [],
   "source": [
    "#category of investor contributed the most money per startup  "
   ]
  },
  {
   "cell_type": "code",
   "execution_count": 250,
   "metadata": {
    "collapsed": true
   },
   "outputs": [],
   "source": [
    "query=\"\"\"\n",
    "      select iv.investor_name,count(*) as frequency,\n",
    "      sum(raised_amount_usd) as investment\n",
    "      from investments as iv\n",
    "      group by iv.investor_name\n",
    "      order by investment desc\n",
    "      limit 1\n",
    "      \"\"\""
   ]
  },
  {
   "cell_type": "code",
   "execution_count": 251,
   "metadata": {
    "collapsed": true
   },
   "outputs": [],
   "source": [
    "investor_money=pd.read_sql(query,conn)"
   ]
  },
  {
   "cell_type": "code",
   "execution_count": 278,
   "metadata": {
    "collapsed": false
   },
   "outputs": [
    {
     "name": "stdout",
     "output_type": "stream",
     "text": [
      "investor: Intel , investment in billons: 2\n"
     ]
    }
   ],
   "source": [
    "print(\"investor: %s , investment in billons: %d\"%(investor_money[\"investor_name\"][0],investor_money[\"investment\"][0]/10000000000))"
   ]
  },
  {
   "cell_type": "code",
   "execution_count": 257,
   "metadata": {
    "collapsed": true
   },
   "outputs": [],
   "source": [
    "query=\"\"\"\n",
    "      select iv.funding_round_type as f_r_t,\n",
    "      count(*) as frequency\n",
    "      from investments as iv\n",
    "      group by f_r_t\n",
    "      order by frequency desc \n",
    "      limit 1\n",
    "      \"\"\"\n"
   ]
  },
  {
   "cell_type": "code",
   "execution_count": 258,
   "metadata": {
    "collapsed": false
   },
   "outputs": [],
   "source": [
    "funding_pop=pd.read_sql(query,conn)"
   ]
  },
  {
   "cell_type": "code",
   "execution_count": 260,
   "metadata": {
    "collapsed": false
   },
   "outputs": [
    {
     "name": "stdout",
     "output_type": "stream",
     "text": [
      "funding popular: series-a\n"
     ]
    }
   ],
   "source": [
    "print(\"funding popular: %s\"%(funding_pop[\"f_r_t\"][0]))"
   ]
  },
  {
   "cell_type": "code",
   "execution_count": 275,
   "metadata": {
    "collapsed": true
   },
   "outputs": [],
   "source": [
    "query=\"\"\"\n",
    "      select iv.funding_round_type as f_r_t,\n",
    "      count(*) as frequency\n",
    "      from investments as iv\n",
    "      group by f_r_t\n",
    "      having f_r_t is not Null\n",
    "      order by frequency asc \n",
    "      limit 1\n",
    "      \"\"\"\n"
   ]
  },
  {
   "cell_type": "code",
   "execution_count": 276,
   "metadata": {
    "collapsed": false
   },
   "outputs": [],
   "source": [
    "funding_pop=pd.read_sql(query,conn)"
   ]
  },
  {
   "cell_type": "code",
   "execution_count": 277,
   "metadata": {
    "collapsed": false
   },
   "outputs": [
    {
     "name": "stdout",
     "output_type": "stream",
     "text": [
      "funding least popular: crowdfunding\n"
     ]
    }
   ],
   "source": [
    "print(\"funding least popular: %s\"%(funding_pop[\"f_r_t\"][0]))"
   ]
  },
  {
   "cell_type": "code",
   "execution_count": null,
   "metadata": {
    "collapsed": true
   },
   "outputs": [],
   "source": []
  }
 ],
 "metadata": {
  "anaconda-cloud": {},
  "kernelspec": {
   "display_name": "Python 3",
   "language": "python",
   "name": "python3"
  },
  "language_info": {
   "codemirror_mode": {
    "name": "ipython",
    "version": 3
   },
   "file_extension": ".py",
   "mimetype": "text/x-python",
   "name": "python",
   "nbconvert_exporter": "python",
   "pygments_lexer": "ipython3",
   "version": "3.4.3"
  }
 },
 "nbformat": 4,
 "nbformat_minor": 2
}
